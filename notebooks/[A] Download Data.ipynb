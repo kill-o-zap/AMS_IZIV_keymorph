{
 "cells": [
  {
   "cell_type": "markdown",
   "id": "e13c078b",
   "metadata": {},
   "source": [
    "### Import Libraries"
   ]
  },
  {
   "cell_type": "code",
   "execution_count": 1,
   "id": "83ddb406",
   "metadata": {},
   "outputs": [],
   "source": [
    "import os\n",
    "import torch\n",
    "import numpy as np\n",
    "import torchio as tio\n",
    "import SimpleITK as sitk\n",
    "\n",
    "from pathlib import Path\n",
    "from tqdm.notebook import tqdm\n",
    "from torchio.transforms import (Compose,\n",
    "                                ToCanonical,\n",
    "                                RescaleIntensity, \n",
    "                                CropOrPad)"
   ]
  },
  {
   "cell_type": "markdown",
   "id": "902ccd9c",
   "metadata": {
    "tags": []
   },
   "source": [
    "### Download Raw Data"
   ]
  },
  {
   "cell_type": "code",
   "execution_count": null,
   "id": "ebd272cc",
   "metadata": {
    "scrolled": true
   },
   "outputs": [],
   "source": [
    "DATA_PATH = '../data/raw/'\n",
    "\n",
    "'''Transformation'''\n",
    "ixi_dataset = tio.datasets.IXI(DATA_PATH,\n",
    "                               modalities=('T1','T2','PD',),\n",
    "                               download=True)"
   ]
  },
  {
   "cell_type": "markdown",
   "id": "e3340771",
   "metadata": {},
   "source": [
    "### Process Data"
   ]
  },
  {
   "cell_type": "code",
   "execution_count": 3,
   "id": "2111831f",
   "metadata": {},
   "outputs": [
    {
     "name": "stdout",
     "output_type": "stream",
     "text": [
      "['../data/raw/T2/ThoraxCBCT_0000_0000.nii.gz', '../data/raw/T2/ThoraxCBCT_0000_0001.nii.gz', '../data/raw/T2/ThoraxCBCT_0000_0002.nii.gz', '../data/raw/T2/ThoraxCBCT_0001_0000.nii.gz', '../data/raw/T2/ThoraxCBCT_0001_0001.nii.gz', '../data/raw/T2/ThoraxCBCT_0001_0002.nii.gz', '../data/raw/T2/ThoraxCBCT_0002_0000.nii.gz', '../data/raw/T2/ThoraxCBCT_0002_0001.nii.gz', '../data/raw/T2/ThoraxCBCT_0002_0002.nii.gz', '../data/raw/T2/ThoraxCBCT_0003_0000.nii.gz', '../data/raw/T2/ThoraxCBCT_0003_0001.nii.gz', '../data/raw/T2/ThoraxCBCT_0003_0002.nii.gz', '../data/raw/T2/ThoraxCBCT_0004_0000.nii.gz', '../data/raw/T2/ThoraxCBCT_0004_0001.nii.gz', '../data/raw/T2/ThoraxCBCT_0004_0002.nii.gz', '../data/raw/T2/ThoraxCBCT_0005_0000.nii.gz', '../data/raw/T2/ThoraxCBCT_0005_0001.nii.gz', '../data/raw/T2/ThoraxCBCT_0005_0002.nii.gz', '../data/raw/T2/ThoraxCBCT_0006_0000.nii.gz', '../data/raw/T2/ThoraxCBCT_0006_0001.nii.gz', '../data/raw/T2/ThoraxCBCT_0006_0002.nii.gz', '../data/raw/T2/ThoraxCBCT_0007_0000.nii.gz', '../data/raw/T2/ThoraxCBCT_0007_0001.nii.gz', '../data/raw/T2/ThoraxCBCT_0007_0002.nii.gz', '../data/raw/T2/ThoraxCBCT_0008_0000.nii.gz', '../data/raw/T2/ThoraxCBCT_0008_0001.nii.gz', '../data/raw/T2/ThoraxCBCT_0008_0002.nii.gz', '../data/raw/T2/ThoraxCBCT_0009_0000.nii.gz', '../data/raw/T2/ThoraxCBCT_0009_0001.nii.gz', '../data/raw/T2/ThoraxCBCT_0009_0002.nii.gz', '../data/raw/T2/ThoraxCBCT_0010_0000.nii.gz', '../data/raw/T2/ThoraxCBCT_0010_0001.nii.gz', '../data/raw/T2/ThoraxCBCT_0010_0002.nii.gz', '../data/raw/T2/ThoraxCBCT_0011_0000.nii.gz', '../data/raw/T2/ThoraxCBCT_0011_0001.nii.gz', '../data/raw/T2/ThoraxCBCT_0011_0002.nii.gz', '../data/raw/T2/ThoraxCBCT_0012_0000.nii.gz', '../data/raw/T2/ThoraxCBCT_0012_0001.nii.gz', '../data/raw/T2/ThoraxCBCT_0012_0002.nii.gz', '../data/raw/T2/ThoraxCBCT_0013_0000.nii.gz', '../data/raw/T2/ThoraxCBCT_0013_0001.nii.gz', '../data/raw/T2/ThoraxCBCT_0013_0002.nii.gz']\n",
      "['../data/raw/T1/ThoraxCBCT_0000_0000.nii.gz', '../data/raw/T1/ThoraxCBCT_0000_0001.nii.gz', '../data/raw/T1/ThoraxCBCT_0000_0002.nii.gz', '../data/raw/T1/ThoraxCBCT_0001_0000.nii.gz', '../data/raw/T1/ThoraxCBCT_0001_0001.nii.gz', '../data/raw/T1/ThoraxCBCT_0001_0002.nii.gz', '../data/raw/T1/ThoraxCBCT_0002_0000.nii.gz', '../data/raw/T1/ThoraxCBCT_0002_0001.nii.gz', '../data/raw/T1/ThoraxCBCT_0002_0002.nii.gz', '../data/raw/T1/ThoraxCBCT_0003_0000.nii.gz', '../data/raw/T1/ThoraxCBCT_0003_0001.nii.gz', '../data/raw/T1/ThoraxCBCT_0003_0002.nii.gz', '../data/raw/T1/ThoraxCBCT_0004_0000.nii.gz', '../data/raw/T1/ThoraxCBCT_0004_0001.nii.gz', '../data/raw/T1/ThoraxCBCT_0004_0002.nii.gz', '../data/raw/T1/ThoraxCBCT_0005_0000.nii.gz', '../data/raw/T1/ThoraxCBCT_0005_0001.nii.gz', '../data/raw/T1/ThoraxCBCT_0005_0002.nii.gz', '../data/raw/T1/ThoraxCBCT_0006_0000.nii.gz', '../data/raw/T1/ThoraxCBCT_0006_0001.nii.gz', '../data/raw/T1/ThoraxCBCT_0006_0002.nii.gz', '../data/raw/T1/ThoraxCBCT_0007_0000.nii.gz', '../data/raw/T1/ThoraxCBCT_0007_0001.nii.gz', '../data/raw/T1/ThoraxCBCT_0007_0002.nii.gz', '../data/raw/T1/ThoraxCBCT_0008_0000.nii.gz', '../data/raw/T1/ThoraxCBCT_0008_0001.nii.gz', '../data/raw/T1/ThoraxCBCT_0008_0002.nii.gz', '../data/raw/T1/ThoraxCBCT_0009_0000.nii.gz', '../data/raw/T1/ThoraxCBCT_0009_0001.nii.gz', '../data/raw/T1/ThoraxCBCT_0009_0002.nii.gz', '../data/raw/T1/ThoraxCBCT_0010_0000.nii.gz', '../data/raw/T1/ThoraxCBCT_0010_0001.nii.gz', '../data/raw/T1/ThoraxCBCT_0010_0002.nii.gz', '../data/raw/T1/ThoraxCBCT_0011_0000.nii.gz', '../data/raw/T1/ThoraxCBCT_0011_0001.nii.gz', '../data/raw/T1/ThoraxCBCT_0011_0002.nii.gz', '../data/raw/T1/ThoraxCBCT_0012_0000.nii.gz', '../data/raw/T1/ThoraxCBCT_0012_0001.nii.gz', '../data/raw/T1/ThoraxCBCT_0012_0002.nii.gz', '../data/raw/T1/ThoraxCBCT_0013_0000.nii.gz', '../data/raw/T1/ThoraxCBCT_0013_0001.nii.gz', '../data/raw/T1/ThoraxCBCT_0013_0002.nii.gz']\n",
      "['../data/raw/PD/ThoraxCBCT_0000_0000.nii.gz', '../data/raw/PD/ThoraxCBCT_0000_0001.nii.gz', '../data/raw/PD/ThoraxCBCT_0000_0002.nii.gz', '../data/raw/PD/ThoraxCBCT_0001_0000.nii.gz', '../data/raw/PD/ThoraxCBCT_0001_0001.nii.gz', '../data/raw/PD/ThoraxCBCT_0001_0002.nii.gz', '../data/raw/PD/ThoraxCBCT_0002_0000.nii.gz', '../data/raw/PD/ThoraxCBCT_0002_0001.nii.gz', '../data/raw/PD/ThoraxCBCT_0002_0002.nii.gz', '../data/raw/PD/ThoraxCBCT_0003_0000.nii.gz', '../data/raw/PD/ThoraxCBCT_0003_0001.nii.gz', '../data/raw/PD/ThoraxCBCT_0003_0002.nii.gz', '../data/raw/PD/ThoraxCBCT_0004_0000.nii.gz', '../data/raw/PD/ThoraxCBCT_0004_0001.nii.gz', '../data/raw/PD/ThoraxCBCT_0004_0002.nii.gz', '../data/raw/PD/ThoraxCBCT_0005_0000.nii.gz', '../data/raw/PD/ThoraxCBCT_0005_0001.nii.gz', '../data/raw/PD/ThoraxCBCT_0005_0002.nii.gz', '../data/raw/PD/ThoraxCBCT_0006_0000.nii.gz', '../data/raw/PD/ThoraxCBCT_0006_0001.nii.gz', '../data/raw/PD/ThoraxCBCT_0006_0002.nii.gz', '../data/raw/PD/ThoraxCBCT_0007_0000.nii.gz', '../data/raw/PD/ThoraxCBCT_0007_0001.nii.gz', '../data/raw/PD/ThoraxCBCT_0007_0002.nii.gz', '../data/raw/PD/ThoraxCBCT_0008_0000.nii.gz', '../data/raw/PD/ThoraxCBCT_0008_0001.nii.gz', '../data/raw/PD/ThoraxCBCT_0008_0002.nii.gz', '../data/raw/PD/ThoraxCBCT_0009_0000.nii.gz', '../data/raw/PD/ThoraxCBCT_0009_0001.nii.gz', '../data/raw/PD/ThoraxCBCT_0009_0002.nii.gz', '../data/raw/PD/ThoraxCBCT_0010_0000.nii.gz', '../data/raw/PD/ThoraxCBCT_0010_0001.nii.gz', '../data/raw/PD/ThoraxCBCT_0010_0002.nii.gz', '../data/raw/PD/ThoraxCBCT_0011_0000.nii.gz', '../data/raw/PD/ThoraxCBCT_0011_0001.nii.gz', '../data/raw/PD/ThoraxCBCT_0011_0002.nii.gz', '../data/raw/PD/ThoraxCBCT_0012_0000.nii.gz', '../data/raw/PD/ThoraxCBCT_0012_0001.nii.gz', '../data/raw/PD/ThoraxCBCT_0012_0002.nii.gz', '../data/raw/PD/ThoraxCBCT_0013_0000.nii.gz', '../data/raw/PD/ThoraxCBCT_0013_0001.nii.gz', '../data/raw/PD/ThoraxCBCT_0013_0002.nii.gz']\n",
      "Processing T2\n"
     ]
    },
    {
     "data": {
      "application/vnd.jupyter.widget-view+json": {
       "model_id": "44ce0e57c1a94ca892697a3838810205",
       "version_major": 2,
       "version_minor": 0
      },
      "text/plain": [
       "0it [00:00, ?it/s]"
      ]
     },
     "metadata": {},
     "output_type": "display_data"
    },
    {
     "name": "stdout",
     "output_type": "stream",
     "text": [
      "Processing T1\n"
     ]
    },
    {
     "data": {
      "application/vnd.jupyter.widget-view+json": {
       "model_id": "2aa4bbf526e0410db4078f08ea5f56f9",
       "version_major": 2,
       "version_minor": 0
      },
      "text/plain": [
       "0it [00:00, ?it/s]"
      ]
     },
     "metadata": {},
     "output_type": "display_data"
    },
    {
     "name": "stdout",
     "output_type": "stream",
     "text": [
      "Processing PD\n"
     ]
    },
    {
     "data": {
      "application/vnd.jupyter.widget-view+json": {
       "model_id": "c166de129ae14999a0ddee3d8bd4e4ec",
       "version_major": 2,
       "version_minor": 0
      },
      "text/plain": [
       "0it [00:00, ?it/s]"
      ]
     },
     "metadata": {},
     "output_type": "display_data"
    }
   ],
   "source": [
    "\"\"\"Load Data\"\"\"\n",
    "directory = '../data/raw/'\n",
    "\n",
    "Path('../data/processed_IXI/').mkdir(parents=True, exist_ok=True)\n",
    "Path('../data/processed_IXI/T1').mkdir(parents=True, exist_ok=True)\n",
    "Path('../data/processed_IXI/T2').mkdir(parents=True, exist_ok=True)\n",
    "Path('../data/processed_IXI/PD').mkdir(parents=True, exist_ok=True)\n",
    "\n",
    "t2_paths = []\n",
    "subjects_name =[]\n",
    "for d in np.sort(os.listdir(directory+'T2/')):\n",
    "    if 'ipynb' in d:\n",
    "        continue\n",
    "    if 'IXI580-IOP-1157' not in directory+'T2/'+d:\n",
    "        subjects_name += [d[:-7]] \n",
    "        t2_paths += [directory+'T2/'+d]\n",
    "print(t2_paths)\n",
    "t1_paths = []\n",
    "for d in subjects_name:\n",
    "    if not os.path.exists(directory+'T1'+'/'):\n",
    "        raise Exception('PATH does not exist')\n",
    "    t1_paths += [directory+'T1'+'/'+d+'.nii.gz']\n",
    "print(t1_paths)\n",
    "pd_paths = []\n",
    "for d in subjects_name: \n",
    "    if not os.path.exists(directory+'PD'+'/'):\n",
    "        raise Exception('PATH does not exist')    \n",
    "    pd_paths += [directory+'PD'+'/'+d+'.nii.gz']\n",
    "\n",
    "print(pd_paths)\n",
    "'''Load'''\n",
    "_mod = ['T2','T1','PD']\n",
    "for j, paths in enumerate([t2_paths, t1_paths, pd_paths]):\n",
    "    print('Processing {}'.format(_mod[j]))\n",
    "    subjects = []\n",
    "    for i in range(len(paths)):\n",
    "        subject = tio.Subject(mri= tio.ScalarImage(paths[i]),\n",
    "                              name=subjects_name[i])\n",
    "        subjects.append(subject)\n",
    "\n",
    "    '''Transformation'''\n",
    "    intensity_norm = RescaleIntensity((0,1),\n",
    "                                      (0.5, 99.5))\n",
    "\n",
    "    transforms = Compose([tio.Resample(1),\n",
    "                          intensity_norm,\n",
    "                          ToCanonical(1), \n",
    "                          CropOrPad(target_shape=(192,192,256))])\n",
    "\n",
    "    train_set = tio.SubjectsDataset(subjects, \n",
    "                                    transform=transforms)\n",
    "\n",
    "    train_loader = torch.utils.data.DataLoader(train_set,\n",
    "                                               batch_size=1,\n",
    "                                               shuffle=False, \n",
    "                                               drop_last=False, \n",
    "                                               num_workers=0)\n",
    "    \n",
    "    for i,data in tqdm(enumerate(train_loader)):\n",
    "        x = data['mri'][tio.DATA].squeeze().numpy()\n",
    "        name = data['name'][0]\n",
    "        x = sitk.GetImageFromArray(x)\n",
    "        sitk.WriteImage(x, '../data/processed_IXI/{}/{}.nii'.format(_mod[j], name))"
   ]
  }
 ],
 "metadata": {
  "kernelspec": {
   "display_name": ".venv",
   "language": "python",
   "name": "python3"
  },
  "language_info": {
   "codemirror_mode": {
    "name": "ipython",
    "version": 3
   },
   "file_extension": ".py",
   "mimetype": "text/x-python",
   "name": "python",
   "nbconvert_exporter": "python",
   "pygments_lexer": "ipython3",
   "version": "3.9.4"
  }
 },
 "nbformat": 4,
 "nbformat_minor": 5
}
