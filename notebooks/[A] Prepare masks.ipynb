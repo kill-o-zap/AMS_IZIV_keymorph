{
 "cells": [
  {
   "cell_type": "markdown",
   "id": "e13c078b",
   "metadata": {},
   "source": [
    "### Import Libraries"
   ]
  },
  {
   "cell_type": "code",
   "execution_count": 1,
   "id": "83ddb406",
   "metadata": {},
   "outputs": [],
   "source": [
    "import os\n",
    "import torch\n",
    "import numpy as np\n",
    "import torchio as tio\n",
    "import SimpleITK as sitk\n",
    "\n",
    "from pathlib import Path\n",
    "from tqdm.notebook import tqdm\n",
    "from torchio.transforms import (Compose,\n",
    "                                ToCanonical,\n",
    "                                RescaleIntensity, \n",
    "                                CropOrPad)"
   ]
  },
  {
   "cell_type": "markdown",
   "id": "902ccd9c",
   "metadata": {
    "tags": []
   },
   "source": [
    "### Download Raw Data"
   ]
  },
  {
   "cell_type": "code",
   "execution_count": null,
   "id": "ebd272cc",
   "metadata": {
    "scrolled": true
   },
   "outputs": [],
   "source": [
    "DATA_PATH = '../data/raw/'\n",
    "\n",
    "'''Transformation'''\n",
    "ixi_dataset = tio.datasets.IXI(DATA_PATH,\n",
    "                               modalities=('T1','T2','PD',),\n",
    "                               download=True)"
   ]
  },
  {
   "cell_type": "markdown",
   "id": "e3340771",
   "metadata": {},
   "source": [
    "### Process Data"
   ]
  },
  {
   "cell_type": "code",
   "execution_count": 2,
   "id": "2111831f",
   "metadata": {},
   "outputs": [
    {
     "name": "stdout",
     "output_type": "stream",
     "text": [
      "['../data/raw/masks/T2_mask/ThoraxCBCT_0000_0000.nii.gz', '../data/raw/masks/T2_mask/ThoraxCBCT_0000_0001.nii.gz', '../data/raw/masks/T2_mask/ThoraxCBCT_0000_0002.nii.gz', '../data/raw/masks/T2_mask/ThoraxCBCT_0001_0000.nii.gz', '../data/raw/masks/T2_mask/ThoraxCBCT_0001_0001.nii.gz', '../data/raw/masks/T2_mask/ThoraxCBCT_0001_0002.nii.gz', '../data/raw/masks/T2_mask/ThoraxCBCT_0002_0000.nii.gz', '../data/raw/masks/T2_mask/ThoraxCBCT_0002_0001.nii.gz', '../data/raw/masks/T2_mask/ThoraxCBCT_0002_0002.nii.gz', '../data/raw/masks/T2_mask/ThoraxCBCT_0003_0000.nii.gz', '../data/raw/masks/T2_mask/ThoraxCBCT_0003_0001.nii.gz', '../data/raw/masks/T2_mask/ThoraxCBCT_0003_0002.nii.gz', '../data/raw/masks/T2_mask/ThoraxCBCT_0004_0000.nii.gz', '../data/raw/masks/T2_mask/ThoraxCBCT_0004_0001.nii.gz', '../data/raw/masks/T2_mask/ThoraxCBCT_0004_0002.nii.gz', '../data/raw/masks/T2_mask/ThoraxCBCT_0005_0000.nii.gz', '../data/raw/masks/T2_mask/ThoraxCBCT_0005_0001.nii.gz', '../data/raw/masks/T2_mask/ThoraxCBCT_0005_0002.nii.gz', '../data/raw/masks/T2_mask/ThoraxCBCT_0006_0000.nii.gz', '../data/raw/masks/T2_mask/ThoraxCBCT_0006_0001.nii.gz', '../data/raw/masks/T2_mask/ThoraxCBCT_0006_0002.nii.gz', '../data/raw/masks/T2_mask/ThoraxCBCT_0007_0000.nii.gz', '../data/raw/masks/T2_mask/ThoraxCBCT_0007_0001.nii.gz', '../data/raw/masks/T2_mask/ThoraxCBCT_0007_0002.nii.gz', '../data/raw/masks/T2_mask/ThoraxCBCT_0008_0000.nii.gz', '../data/raw/masks/T2_mask/ThoraxCBCT_0008_0001.nii.gz', '../data/raw/masks/T2_mask/ThoraxCBCT_0008_0002.nii.gz', '../data/raw/masks/T2_mask/ThoraxCBCT_0009_0000.nii.gz', '../data/raw/masks/T2_mask/ThoraxCBCT_0009_0001.nii.gz', '../data/raw/masks/T2_mask/ThoraxCBCT_0009_0002.nii.gz', '../data/raw/masks/T2_mask/ThoraxCBCT_0010_0000.nii.gz', '../data/raw/masks/T2_mask/ThoraxCBCT_0010_0001.nii.gz', '../data/raw/masks/T2_mask/ThoraxCBCT_0010_0002.nii.gz', '../data/raw/masks/T2_mask/ThoraxCBCT_0011_0000.nii.gz', '../data/raw/masks/T2_mask/ThoraxCBCT_0011_0001.nii.gz', '../data/raw/masks/T2_mask/ThoraxCBCT_0011_0002.nii.gz', '../data/raw/masks/T2_mask/ThoraxCBCT_0012_0000.nii.gz', '../data/raw/masks/T2_mask/ThoraxCBCT_0012_0001.nii.gz', '../data/raw/masks/T2_mask/ThoraxCBCT_0012_0002.nii.gz', '../data/raw/masks/T2_mask/ThoraxCBCT_0013_0000.nii.gz', '../data/raw/masks/T2_mask/ThoraxCBCT_0013_0001.nii.gz', '../data/raw/masks/T2_mask/ThoraxCBCT_0013_0002.nii.gz']\n",
      "['../data/raw/masks/T1_mask/ThoraxCBCT_0000_0000.nii.gz', '../data/raw/masks/T1_mask/ThoraxCBCT_0000_0001.nii.gz', '../data/raw/masks/T1_mask/ThoraxCBCT_0000_0002.nii.gz', '../data/raw/masks/T1_mask/ThoraxCBCT_0001_0000.nii.gz', '../data/raw/masks/T1_mask/ThoraxCBCT_0001_0001.nii.gz', '../data/raw/masks/T1_mask/ThoraxCBCT_0001_0002.nii.gz', '../data/raw/masks/T1_mask/ThoraxCBCT_0002_0000.nii.gz', '../data/raw/masks/T1_mask/ThoraxCBCT_0002_0001.nii.gz', '../data/raw/masks/T1_mask/ThoraxCBCT_0002_0002.nii.gz', '../data/raw/masks/T1_mask/ThoraxCBCT_0003_0000.nii.gz', '../data/raw/masks/T1_mask/ThoraxCBCT_0003_0001.nii.gz', '../data/raw/masks/T1_mask/ThoraxCBCT_0003_0002.nii.gz', '../data/raw/masks/T1_mask/ThoraxCBCT_0004_0000.nii.gz', '../data/raw/masks/T1_mask/ThoraxCBCT_0004_0001.nii.gz', '../data/raw/masks/T1_mask/ThoraxCBCT_0004_0002.nii.gz', '../data/raw/masks/T1_mask/ThoraxCBCT_0005_0000.nii.gz', '../data/raw/masks/T1_mask/ThoraxCBCT_0005_0001.nii.gz', '../data/raw/masks/T1_mask/ThoraxCBCT_0005_0002.nii.gz', '../data/raw/masks/T1_mask/ThoraxCBCT_0006_0000.nii.gz', '../data/raw/masks/T1_mask/ThoraxCBCT_0006_0001.nii.gz', '../data/raw/masks/T1_mask/ThoraxCBCT_0006_0002.nii.gz', '../data/raw/masks/T1_mask/ThoraxCBCT_0007_0000.nii.gz', '../data/raw/masks/T1_mask/ThoraxCBCT_0007_0001.nii.gz', '../data/raw/masks/T1_mask/ThoraxCBCT_0007_0002.nii.gz', '../data/raw/masks/T1_mask/ThoraxCBCT_0008_0000.nii.gz', '../data/raw/masks/T1_mask/ThoraxCBCT_0008_0001.nii.gz', '../data/raw/masks/T1_mask/ThoraxCBCT_0008_0002.nii.gz', '../data/raw/masks/T1_mask/ThoraxCBCT_0009_0000.nii.gz', '../data/raw/masks/T1_mask/ThoraxCBCT_0009_0001.nii.gz', '../data/raw/masks/T1_mask/ThoraxCBCT_0009_0002.nii.gz', '../data/raw/masks/T1_mask/ThoraxCBCT_0010_0000.nii.gz', '../data/raw/masks/T1_mask/ThoraxCBCT_0010_0001.nii.gz', '../data/raw/masks/T1_mask/ThoraxCBCT_0010_0002.nii.gz', '../data/raw/masks/T1_mask/ThoraxCBCT_0011_0000.nii.gz', '../data/raw/masks/T1_mask/ThoraxCBCT_0011_0001.nii.gz', '../data/raw/masks/T1_mask/ThoraxCBCT_0011_0002.nii.gz', '../data/raw/masks/T1_mask/ThoraxCBCT_0012_0000.nii.gz', '../data/raw/masks/T1_mask/ThoraxCBCT_0012_0001.nii.gz', '../data/raw/masks/T1_mask/ThoraxCBCT_0012_0002.nii.gz', '../data/raw/masks/T1_mask/ThoraxCBCT_0013_0000.nii.gz', '../data/raw/masks/T1_mask/ThoraxCBCT_0013_0001.nii.gz', '../data/raw/masks/T1_mask/ThoraxCBCT_0013_0002.nii.gz']\n",
      "['../data/raw/masks/PD_mask/ThoraxCBCT_0000_0000.nii.gz', '../data/raw/masks/PD_mask/ThoraxCBCT_0000_0001.nii.gz', '../data/raw/masks/PD_mask/ThoraxCBCT_0000_0002.nii.gz', '../data/raw/masks/PD_mask/ThoraxCBCT_0001_0000.nii.gz', '../data/raw/masks/PD_mask/ThoraxCBCT_0001_0001.nii.gz', '../data/raw/masks/PD_mask/ThoraxCBCT_0001_0002.nii.gz', '../data/raw/masks/PD_mask/ThoraxCBCT_0002_0000.nii.gz', '../data/raw/masks/PD_mask/ThoraxCBCT_0002_0001.nii.gz', '../data/raw/masks/PD_mask/ThoraxCBCT_0002_0002.nii.gz', '../data/raw/masks/PD_mask/ThoraxCBCT_0003_0000.nii.gz', '../data/raw/masks/PD_mask/ThoraxCBCT_0003_0001.nii.gz', '../data/raw/masks/PD_mask/ThoraxCBCT_0003_0002.nii.gz', '../data/raw/masks/PD_mask/ThoraxCBCT_0004_0000.nii.gz', '../data/raw/masks/PD_mask/ThoraxCBCT_0004_0001.nii.gz', '../data/raw/masks/PD_mask/ThoraxCBCT_0004_0002.nii.gz', '../data/raw/masks/PD_mask/ThoraxCBCT_0005_0000.nii.gz', '../data/raw/masks/PD_mask/ThoraxCBCT_0005_0001.nii.gz', '../data/raw/masks/PD_mask/ThoraxCBCT_0005_0002.nii.gz', '../data/raw/masks/PD_mask/ThoraxCBCT_0006_0000.nii.gz', '../data/raw/masks/PD_mask/ThoraxCBCT_0006_0001.nii.gz', '../data/raw/masks/PD_mask/ThoraxCBCT_0006_0002.nii.gz', '../data/raw/masks/PD_mask/ThoraxCBCT_0007_0000.nii.gz', '../data/raw/masks/PD_mask/ThoraxCBCT_0007_0001.nii.gz', '../data/raw/masks/PD_mask/ThoraxCBCT_0007_0002.nii.gz', '../data/raw/masks/PD_mask/ThoraxCBCT_0008_0000.nii.gz', '../data/raw/masks/PD_mask/ThoraxCBCT_0008_0001.nii.gz', '../data/raw/masks/PD_mask/ThoraxCBCT_0008_0002.nii.gz', '../data/raw/masks/PD_mask/ThoraxCBCT_0009_0000.nii.gz', '../data/raw/masks/PD_mask/ThoraxCBCT_0009_0001.nii.gz', '../data/raw/masks/PD_mask/ThoraxCBCT_0009_0002.nii.gz', '../data/raw/masks/PD_mask/ThoraxCBCT_0010_0000.nii.gz', '../data/raw/masks/PD_mask/ThoraxCBCT_0010_0001.nii.gz', '../data/raw/masks/PD_mask/ThoraxCBCT_0010_0002.nii.gz', '../data/raw/masks/PD_mask/ThoraxCBCT_0011_0000.nii.gz', '../data/raw/masks/PD_mask/ThoraxCBCT_0011_0001.nii.gz', '../data/raw/masks/PD_mask/ThoraxCBCT_0011_0002.nii.gz', '../data/raw/masks/PD_mask/ThoraxCBCT_0012_0000.nii.gz', '../data/raw/masks/PD_mask/ThoraxCBCT_0012_0001.nii.gz', '../data/raw/masks/PD_mask/ThoraxCBCT_0012_0002.nii.gz', '../data/raw/masks/PD_mask/ThoraxCBCT_0013_0000.nii.gz', '../data/raw/masks/PD_mask/ThoraxCBCT_0013_0001.nii.gz', '../data/raw/masks/PD_mask/ThoraxCBCT_0013_0002.nii.gz']\n",
      "Processing T2_mask\n"
     ]
    },
    {
     "data": {
      "application/vnd.jupyter.widget-view+json": {
       "model_id": "b26f1a2412d0458b984942214bc6bdbf",
       "version_major": 2,
       "version_minor": 0
      },
      "text/plain": [
       "0it [00:00, ?it/s]"
      ]
     },
     "metadata": {},
     "output_type": "display_data"
    },
    {
     "name": "stderr",
     "output_type": "stream",
     "text": [
      "c:\\AMS_IZIV\\AMS_IZIV_keymorph\\.venv\\lib\\site-packages\\torchio\\data\\image.py:248: UserWarning: Using TorchIO images without a torchio.SubjectsLoader in PyTorch >= 2.3 might have unexpected consequences, e.g., the collated batches will be instances of torchio.Subject with 5D images. Replace your PyTorch DataLoader with a torchio.SubjectsLoader so that the collated batch becomes a dictionary, as expected. See https://github.com/fepegar/torchio/issues/1179 for more context about this issue.\n",
      "  warnings.warn(message, stacklevel=1)\n"
     ]
    },
    {
     "name": "stdout",
     "output_type": "stream",
     "text": [
      "Processing T1_mask\n"
     ]
    },
    {
     "data": {
      "application/vnd.jupyter.widget-view+json": {
       "model_id": "60584693e1ae4dd09a486c8e0f50c1cf",
       "version_major": 2,
       "version_minor": 0
      },
      "text/plain": [
       "0it [00:00, ?it/s]"
      ]
     },
     "metadata": {},
     "output_type": "display_data"
    },
    {
     "name": "stdout",
     "output_type": "stream",
     "text": [
      "Processing PD_mask\n"
     ]
    },
    {
     "data": {
      "application/vnd.jupyter.widget-view+json": {
       "model_id": "003393ae5d14432080f3ff03a039218f",
       "version_major": 2,
       "version_minor": 0
      },
      "text/plain": [
       "0it [00:00, ?it/s]"
      ]
     },
     "metadata": {},
     "output_type": "display_data"
    }
   ],
   "source": [
    "\"\"\"Load Data\"\"\"\n",
    "directory = '../data/raw/masks/'\n",
    "\n",
    "Path('../data/processed_IXI/').mkdir(parents=True, exist_ok=True)\n",
    "Path('../data/processed_IXI/T1_mask').mkdir(parents=True, exist_ok=True)\n",
    "Path('../data/processed_IXI/T2_mask').mkdir(parents=True, exist_ok=True)\n",
    "Path('../data/processed_IXI/PD_mask').mkdir(parents=True, exist_ok=True)\n",
    "\n",
    "t2_paths = []\n",
    "subjects_name =[]\n",
    "for d in np.sort(os.listdir(directory+'T2_mask/')):\n",
    "    if 'ipynb' in d:\n",
    "        continue\n",
    "    if 'IXI580-IOP-1157' not in directory+'T2_mask/'+d:\n",
    "        subjects_name += [d[:-7]] \n",
    "        t2_paths += [directory+'T2_mask/'+d]\n",
    "print(t2_paths)\n",
    "t1_paths = []\n",
    "for d in subjects_name:\n",
    "    if not os.path.exists(directory+'T1_mask'+'/'):\n",
    "        raise Exception('PATH does not exist')\n",
    "    t1_paths += [directory+'T1_mask'+'/'+d+'.nii.gz']\n",
    "print(t1_paths)\n",
    "pd_paths = []\n",
    "for d in subjects_name: \n",
    "    if not os.path.exists(directory+'PD_mask'+'/'):\n",
    "        raise Exception('PATH does not exist')    \n",
    "    pd_paths += [directory+'PD_mask'+'/'+d+'.nii.gz']\n",
    "\n",
    "print(pd_paths)\n",
    "'''Load'''\n",
    "_mod = ['T2_mask','T1_mask','PD_mask']\n",
    "for j, paths in enumerate([t2_paths, t1_paths, pd_paths]):\n",
    "    print('Processing {}'.format(_mod[j]))\n",
    "    subjects = []\n",
    "    for i in range(len(paths)):\n",
    "        subject = tio.Subject(mri= tio.ScalarImage(paths[i]),\n",
    "                              name=subjects_name[i])\n",
    "        subjects.append(subject)\n",
    "\n",
    "    '''Transformation'''\n",
    "    intensity_norm = RescaleIntensity((0,1),\n",
    "                                      (0.5, 99.5))\n",
    "\n",
    "    transforms = Compose([tio.Resample(1),\n",
    "                          intensity_norm,\n",
    "                          ToCanonical(1), \n",
    "                          CropOrPad(target_shape=(192,192,256))])\n",
    "\n",
    "    train_set = tio.SubjectsDataset(subjects, \n",
    "                                    transform=transforms)\n",
    "\n",
    "    train_loader = torch.utils.data.DataLoader(train_set,\n",
    "                                               batch_size=1,\n",
    "                                               shuffle=False, \n",
    "                                               drop_last=False, \n",
    "                                               num_workers=0)\n",
    "    \n",
    "    for i,data in tqdm(enumerate(train_loader)):\n",
    "        x = data['mri'][tio.DATA].squeeze().numpy()\n",
    "        name = data['name'][0]\n",
    "        x = sitk.GetImageFromArray(x)\n",
    "        sitk.WriteImage(x, '../data/processed_IXI/{}/{}_mask.nii.gz'.format(_mod[j], name))"
   ]
  }
 ],
 "metadata": {
  "kernelspec": {
   "display_name": ".venv",
   "language": "python",
   "name": "python3"
  },
  "language_info": {
   "codemirror_mode": {
    "name": "ipython",
    "version": 3
   },
   "file_extension": ".py",
   "mimetype": "text/x-python",
   "name": "python",
   "nbconvert_exporter": "python",
   "pygments_lexer": "ipython3",
   "version": "3.9.4"
  }
 },
 "nbformat": 4,
 "nbformat_minor": 5
}
